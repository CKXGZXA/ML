{
 "cells": [
  {
   "cell_type": "markdown",
   "metadata": {},
   "source": [
    "# 多元线性回归/对数线性回归（二选一）"
   ]
  },
  {
   "cell_type": "markdown",
   "metadata": {},
   "source": [
    "## 一、多元线性回归\n",
    "这部分的内容是要求大家完成多元线性回归，我们会先带着大家使用sklearn做一元线性回归的十折交叉验证，多元线性回归大家可以仿照着完成"
   ]
  },
  {
   "cell_type": "markdown",
   "metadata": {},
   "source": [
    "### 1. 读取数据"
   ]
  },
  {
   "cell_type": "code",
   "execution_count": 2,
   "metadata": {},
   "outputs": [],
   "source": [
    "import numpy as np"
   ]
  },
  {
   "cell_type": "code",
   "execution_count": 3,
   "metadata": {},
   "outputs": [],
   "source": [
    "import pandas as pd\n",
    "\n",
    "# 读取数据\n",
    "data = pd.read_csv('data/kaggle_house_price_prediction/kaggle_hourse_price_train.csv')\n",
    "\n",
    "# 丢弃有缺失值的特征（列）\n",
    "data.dropna(axis = 1, inplace = True)\n",
    "\n",
    "# 只保留整数的特征\n",
    "data = data[[col for col in data.dtypes.index if data.dtypes[col] == 'int64']]"
   ]
  },
  {
   "cell_type": "code",
   "execution_count": 4,
   "metadata": {},
   "outputs": [
    {
     "name": "stdout",
     "output_type": "stream",
     "text": [
      "<class 'pandas.core.frame.DataFrame'>\n",
      "RangeIndex: 1460 entries, 0 to 1459\n",
      "Data columns (total 35 columns):\n",
      " #   Column         Non-Null Count  Dtype\n",
      "---  ------         --------------  -----\n",
      " 0   Id             1460 non-null   int64\n",
      " 1   MSSubClass     1460 non-null   int64\n",
      " 2   LotArea        1460 non-null   int64\n",
      " 3   OverallQual    1460 non-null   int64\n",
      " 4   OverallCond    1460 non-null   int64\n",
      " 5   YearBuilt      1460 non-null   int64\n",
      " 6   YearRemodAdd   1460 non-null   int64\n",
      " 7   BsmtFinSF1     1460 non-null   int64\n",
      " 8   BsmtFinSF2     1460 non-null   int64\n",
      " 9   BsmtUnfSF      1460 non-null   int64\n",
      " 10  TotalBsmtSF    1460 non-null   int64\n",
      " 11  1stFlrSF       1460 non-null   int64\n",
      " 12  2ndFlrSF       1460 non-null   int64\n",
      " 13  LowQualFinSF   1460 non-null   int64\n",
      " 14  GrLivArea      1460 non-null   int64\n",
      " 15  BsmtFullBath   1460 non-null   int64\n",
      " 16  BsmtHalfBath   1460 non-null   int64\n",
      " 17  FullBath       1460 non-null   int64\n",
      " 18  HalfBath       1460 non-null   int64\n",
      " 19  BedroomAbvGr   1460 non-null   int64\n",
      " 20  KitchenAbvGr   1460 non-null   int64\n",
      " 21  TotRmsAbvGrd   1460 non-null   int64\n",
      " 22  Fireplaces     1460 non-null   int64\n",
      " 23  GarageCars     1460 non-null   int64\n",
      " 24  GarageArea     1460 non-null   int64\n",
      " 25  WoodDeckSF     1460 non-null   int64\n",
      " 26  OpenPorchSF    1460 non-null   int64\n",
      " 27  EnclosedPorch  1460 non-null   int64\n",
      " 28  3SsnPorch      1460 non-null   int64\n",
      " 29  ScreenPorch    1460 non-null   int64\n",
      " 30  PoolArea       1460 non-null   int64\n",
      " 31  MiscVal        1460 non-null   int64\n",
      " 32  MoSold         1460 non-null   int64\n",
      " 33  YrSold         1460 non-null   int64\n",
      " 34  SalePrice      1460 non-null   int64\n",
      "dtypes: int64(35)\n",
      "memory usage: 399.3 KB\n"
     ]
    }
   ],
   "source": [
    "data.info()"
   ]
  },
  {
   "cell_type": "markdown",
   "metadata": {},
   "source": [
    "### 2. 引入模型"
   ]
  },
  {
   "cell_type": "code",
   "execution_count": 5,
   "metadata": {},
   "outputs": [],
   "source": [
    "from sklearn.linear_model import LinearRegression\n",
    "from sklearn.metrics import mean_absolute_error\n",
    "from sklearn.metrics import mean_squared_error\n",
    "from sklearn.model_selection import cross_val_predict"
   ]
  },
  {
   "cell_type": "markdown",
   "metadata": {},
   "source": [
    "### 3. 使用sklearn完成一元线性回归的十折交叉验证验证"
   ]
  },
  {
   "cell_type": "markdown",
   "metadata": {},
   "source": [
    "#### 创建模型"
   ]
  },
  {
   "cell_type": "code",
   "execution_count": 6,
   "metadata": {},
   "outputs": [],
   "source": [
    "model = LinearRegression()"
   ]
  },
  {
   "cell_type": "markdown",
   "metadata": {},
   "source": [
    "#### 选取数据"
   ]
  },
  {
   "cell_type": "code",
   "execution_count": 7,
   "metadata": {},
   "outputs": [],
   "source": [
    "features = ['LotArea']\n",
    "x = data[features]\n",
    "y = data['SalePrice']"
   ]
  },
  {
   "cell_type": "markdown",
   "metadata": {},
   "source": [
    "#### 做十折交叉验证的预测"
   ]
  },
  {
   "cell_type": "code",
   "execution_count": 8,
   "metadata": {},
   "outputs": [],
   "source": [
    "prediction = cross_val_predict(model, x, y, cv = 10)"
   ]
  },
  {
   "cell_type": "markdown",
   "metadata": {},
   "source": [
    "这十折交叉验证是按顺序做的，会先将前10%的数据作为测试集，然后会往后顺延到10%到20%，最后将这十份的预测值按顺序拼接后返回"
   ]
  },
  {
   "cell_type": "code",
   "execution_count": 9,
   "metadata": {},
   "outputs": [
    {
     "data": {
      "text/plain": [
       "(1460,)"
      ]
     },
     "execution_count": 9,
     "metadata": {},
     "output_type": "execute_result"
    }
   ],
   "source": [
    "prediction.shape"
   ]
  },
  {
   "cell_type": "markdown",
   "metadata": {},
   "source": [
    "### 4. 计算评价指标"
   ]
  },
  {
   "cell_type": "markdown",
   "metadata": {},
   "source": [
    "#### MAE"
   ]
  },
  {
   "cell_type": "code",
   "execution_count": 10,
   "metadata": {},
   "outputs": [
    {
     "data": {
      "text/plain": [
       "55394.44195244894"
      ]
     },
     "execution_count": 10,
     "metadata": {},
     "output_type": "execute_result"
    }
   ],
   "source": [
    "mean_absolute_error(prediction, data['SalePrice'])"
   ]
  },
  {
   "cell_type": "markdown",
   "metadata": {},
   "source": [
    "#### RMSE"
   ]
  },
  {
   "cell_type": "code",
   "execution_count": 11,
   "metadata": {},
   "outputs": [
    {
     "data": {
      "text/plain": [
       "77868.51337752414"
      ]
     },
     "execution_count": 11,
     "metadata": {},
     "output_type": "execute_result"
    }
   ],
   "source": [
    "mean_squared_error(prediction, data['SalePrice']) ** 0.5"
   ]
  },
  {
   "cell_type": "markdown",
   "metadata": {},
   "source": [
    "### 5. 请你选择多种特征进行组合，完成多元线性回归，并对比不同的特征组合，它们训练出的模型在十折交叉验证上MAE与RMSE的差别，至少完成3组"
   ]
  },
  {
   "cell_type": "markdown",
   "metadata": {},
   "source": [
    "###### 扩展：多项式回归（一元线性回归的扩展），尝试对部分特征进行变换，如将其二次幂，三次幂作为特征输入模型，观察模型在预测能力上的变化\n",
    "###### 提示：多元线性回归，只要在上方的features这个list中，加入其他特征的名字就可以"
   ]
  },
  {
   "cell_type": "code",
   "execution_count": 64,
   "metadata": {
    "scrolled": false
   },
   "outputs": [
    {
     "data": {
      "text/html": [
       "<div>\n",
       "<style scoped>\n",
       "    .dataframe tbody tr th:only-of-type {\n",
       "        vertical-align: middle;\n",
       "    }\n",
       "\n",
       "    .dataframe tbody tr th {\n",
       "        vertical-align: top;\n",
       "    }\n",
       "\n",
       "    .dataframe thead th {\n",
       "        text-align: right;\n",
       "    }\n",
       "</style>\n",
       "<table border=\"1\" class=\"dataframe\">\n",
       "  <thead>\n",
       "    <tr style=\"text-align: right;\">\n",
       "      <th></th>\n",
       "      <th>MAE</th>\n",
       "      <th>RMSE</th>\n",
       "      <th>Features</th>\n",
       "    </tr>\n",
       "  </thead>\n",
       "  <tbody>\n",
       "    <tr>\n",
       "      <th>模型1</th>\n",
       "      <td>30941.623384</td>\n",
       "      <td>46955.056201</td>\n",
       "      <td>[YearBuilt, GrLivArea]</td>\n",
       "    </tr>\n",
       "    <tr>\n",
       "      <th>模型2</th>\n",
       "      <td>27453.533717</td>\n",
       "      <td>44563.833175</td>\n",
       "      <td>[YearBuilt, GrLivArea, TotalBsmtSF]</td>\n",
       "    </tr>\n",
       "    <tr>\n",
       "      <th>模型3</th>\n",
       "      <td>26514.029706</td>\n",
       "      <td>43336.047019</td>\n",
       "      <td>[YearBuilt, GrLivArea, TotalBsmtSF, GarageArea]</td>\n",
       "    </tr>\n",
       "    <tr>\n",
       "      <th>模型4</th>\n",
       "      <td>33347.472376</td>\n",
       "      <td>48276.906734</td>\n",
       "      <td>[YearBuilt, OverallQual]</td>\n",
       "    </tr>\n",
       "    <tr>\n",
       "      <th>模型5</th>\n",
       "      <td>25152.999866</td>\n",
       "      <td>39870.117063</td>\n",
       "      <td>[OverallQual, GrLivArea, TotalBsmtSF, GarageArea]</td>\n",
       "    </tr>\n",
       "  </tbody>\n",
       "</table>\n",
       "</div>"
      ],
      "text/plain": [
       "              MAE          RMSE  \\\n",
       "模型1  30941.623384  46955.056201   \n",
       "模型2  27453.533717  44563.833175   \n",
       "模型3  26514.029706  43336.047019   \n",
       "模型4  33347.472376  48276.906734   \n",
       "模型5  25152.999866  39870.117063   \n",
       "\n",
       "                                              Features  \n",
       "模型1                             [YearBuilt, GrLivArea]  \n",
       "模型2                [YearBuilt, GrLivArea, TotalBsmtSF]  \n",
       "模型3    [YearBuilt, GrLivArea, TotalBsmtSF, GarageArea]  \n",
       "模型4                           [YearBuilt, OverallQual]  \n",
       "模型5  [OverallQual, GrLivArea, TotalBsmtSF, GarageArea]  "
      ]
     },
     "execution_count": 64,
     "metadata": {},
     "output_type": "execute_result"
    }
   ],
   "source": [
    "# YOUR CODE HERE\n",
    "\n",
    "features = [['YearBuilt', 'GrLivArea'], ['YearBuilt', 'GrLivArea', 'TotalBsmtSF'],\n",
    "            ['YearBuilt', 'GrLivArea', 'TotalBsmtSF', 'GarageArea'], ['YearBuilt', 'OverallQual'],\n",
    "            ['OverallQual', 'GrLivArea', 'TotalBsmtSF', 'GarageArea']]\n",
    "\n",
    "mae = []\n",
    "rmse = []\n",
    "\n",
    "x = []\n",
    "for i in range(len(features)):\n",
    "    x.append(data[features[i]])\n",
    "y = data['SalePrice']\n",
    "\n",
    "\n",
    "def addResult(x1, y1):\n",
    "    model1 = LinearRegression()\n",
    "    prediction1 = cross_val_predict(model1, x1, y1, cv=10)\n",
    "    mae.append(mean_absolute_error(prediction1, data['SalePrice']))\n",
    "    rmse.append(mean_squared_error(prediction1, data['SalePrice']) ** 0.5)\n",
    "\n",
    "\n",
    "for i in range(len(features)):\n",
    "    addResult(x[i], y)\n",
    "\n",
    "result = pd.DataFrame({'MAE': mae, 'RMSE': rmse, 'Features': features})\n",
    "l = []\n",
    "for i in range(result.shape[0]):\n",
    "    l.append(\"模型\" + str(i + 1))\n",
    "result.index = l\n",
    "result.head(result.shape[0])"
   ]
  },
  {
   "cell_type": "code",
   "execution_count": 65,
   "metadata": {},
   "outputs": [],
   "source": [
    "tmp = x[4].copy()"
   ]
  },
  {
   "cell_type": "code",
   "execution_count": 66,
   "metadata": {
    "scrolled": true
   },
   "outputs": [],
   "source": [
    "x = []\n",
    "mae = []\n",
    "rmse = []\n",
    "features = []\n",
    "\n",
    "\n",
    "xx = tmp.copy()\n",
    "xx['OverallQual'] = np.power(xx['OverallQual'], 2)\n",
    "x.append(xx)\n",
    "features.append(['OverallQual ** 2', 'GrLivArea', 'TotalBsmtSF', 'GarageArea'])\n",
    "\n",
    "xx = tmp.copy()\n",
    "xx['OverallQual'] = np.power(xx['OverallQual'], 3)\n",
    "x.append(xx)\n",
    "features.append(['OverallQual ** 3', 'GrLivArea', 'TotalBsmtSF', 'GarageArea'])\n",
    "\n",
    "xx = tmp.copy()\n",
    "xx['OverallQual'] = np.power(xx['OverallQual'], 4)\n",
    "x.append(xx)\n",
    "features.append(['OverallQual ** 3', 'GrLivArea', 'TotalBsmtSF', 'GarageArea'])\n"
   ]
  },
  {
   "cell_type": "code",
   "execution_count": 156,
   "metadata": {
    "scrolled": false
   },
   "outputs": [
    {
     "data": {
      "text/html": [
       "<div>\n",
       "<style scoped>\n",
       "    .dataframe tbody tr th:only-of-type {\n",
       "        vertical-align: middle;\n",
       "    }\n",
       "\n",
       "    .dataframe tbody tr th {\n",
       "        vertical-align: top;\n",
       "    }\n",
       "\n",
       "    .dataframe thead th {\n",
       "        text-align: right;\n",
       "    }\n",
       "</style>\n",
       "<table border=\"1\" class=\"dataframe\">\n",
       "  <thead>\n",
       "    <tr style=\"text-align: right;\">\n",
       "      <th></th>\n",
       "      <th>MAE</th>\n",
       "      <th>RMSE</th>\n",
       "      <th>Features</th>\n",
       "    </tr>\n",
       "  </thead>\n",
       "  <tbody>\n",
       "    <tr>\n",
       "      <th>模型1</th>\n",
       "      <td>49815.379637</td>\n",
       "      <td>74477.031546</td>\n",
       "      <td>[OverallQual ** 2, GrLivArea, TotalBsmtSF, Gar...</td>\n",
       "    </tr>\n",
       "    <tr>\n",
       "      <th>模型2</th>\n",
       "      <td>49815.379637</td>\n",
       "      <td>74477.031546</td>\n",
       "      <td>[OverallQual ** 3, GrLivArea, TotalBsmtSF, Gar...</td>\n",
       "    </tr>\n",
       "    <tr>\n",
       "      <th>模型3</th>\n",
       "      <td>49815.379637</td>\n",
       "      <td>74477.031546</td>\n",
       "      <td>[OverallQual ** 3, GrLivArea, TotalBsmtSF, Gar...</td>\n",
       "    </tr>\n",
       "  </tbody>\n",
       "</table>\n",
       "</div>"
      ],
      "text/plain": [
       "              MAE          RMSE  \\\n",
       "模型1  49815.379637  74477.031546   \n",
       "模型2  49815.379637  74477.031546   \n",
       "模型3  49815.379637  74477.031546   \n",
       "\n",
       "                                              Features  \n",
       "模型1  [OverallQual ** 2, GrLivArea, TotalBsmtSF, Gar...  \n",
       "模型2  [OverallQual ** 3, GrLivArea, TotalBsmtSF, Gar...  \n",
       "模型3  [OverallQual ** 3, GrLivArea, TotalBsmtSF, Gar...  "
      ]
     },
     "execution_count": 156,
     "metadata": {},
     "output_type": "execute_result"
    }
   ],
   "source": [
    "for i in range(len(features)):\n",
    "    addResult(x[i], y)\n",
    "\n",
    "result = pd.DataFrame({'MAE': mae, 'RMSE': rmse, 'Features': features})\n",
    "l = []\n",
    "for i in range(result.shape[0]):\n",
    "    l.append(\"模型\" + str(i + 1))\n",
    "result.index = l\n",
    "result.head(result.shape[0])"
   ]
  },
  {
   "cell_type": "markdown",
   "metadata": {},
   "source": [
    "###### 双击此处填写\n",
    "1. 模型1使用的特征：建成年份(YearBuilt), 地面以上居住面积(GrLivArea)\n",
    "2. 模型2使用的特征：建成年份(YearBuilt), 地面以上居住面积(GrLivArea), 地下室面积(TotalBsmtSF)\n",
    "3. 模型3使用的特征：建成年份(YearBuilt), 地面以上居住面积(GrLivArea), 地下室面积(TotalBsmtSF), 车库面积(GarageArea)\n",
    "4. 模型3使用的特征：建成年份(YearBuilt), 总体质量(OverallQual)\n",
    "5. 模型3使用的特征：总体质量(OverallQual), 地面以上居住面积(GrLivArea), 地下室面积(TotalBsmtSF), 车库面积(GarageArea)\n",
    "\n",
    "模型|MAE|RMSE\n",
    "-|-|-\n",
    "模型1 | 30941.623384 | 46955.056201\t\n",
    "模型2 | 27453.533717 | 44563.833175\t\n",
    "模型3 | 26514.029706 | 43336.047019\n",
    "模型4 | 33347.472376 | 48276.906734\t\n",
    "模型5 | 25152.999866 | 39870.117063"
   ]
  },
  {
   "cell_type": "code",
   "execution_count": 14,
   "metadata": {
    "code_folding": [],
    "scrolled": false
   },
   "outputs": [
    {
     "data": {
      "text/plain": [
       "<AxesSubplot:>"
      ]
     },
     "execution_count": 14,
     "metadata": {},
     "output_type": "execute_result"
    },
    {
     "data": {
      "image/png": "[encoded data removed]",
      "text/plain": [
       "<Figure size 432x288 with 1 Axes>"
      ]
     },
     "metadata": {
      "needs_background": "light"
     },
     "output_type": "display_data"
    }
   ],
   "source": [
    "# 相关系数大于0.5的特征\n",
    "corr = data.corr()\n",
    "corr = corr['SalePrice']\n",
    "corr[abs(corr) > 0.5].sort_values().plot.bar()"
   ]
  },
  {
   "cell_type": "code",
   "execution_count": 15,
   "metadata": {},
   "outputs": [],
   "source": [
    "import matplotlib.pyplot as plt\n",
    "%matplotlib inline"
   ]
  },
  {
   "cell_type": "code",
   "execution_count": 16,
   "metadata": {
    "scrolled": false
   },
   "outputs": [
    {
     "data": {
      "text/plain": [
       "[<matplotlib.lines.Line2D at 0x7f90ac513310>]"
      ]
     },
     "execution_count": 16,
     "metadata": {},
     "output_type": "execute_result"
    },
    {
     "data": {
      "image/png": "[encoded data removed]",
      "text/plain": [
       "<Figure size 432x288 with 1 Axes>"
      ]
     },
     "metadata": {
      "needs_background": "light"
     },
     "output_type": "display_data"
    }
   ],
   "source": [
    "# GrLivArea, SalePrice\n",
    "\n",
    "plt.plot(data['GrLivArea'].values, data['SalePrice'], '.')"
   ]
  },
  {
   "cell_type": "code",
   "execution_count": 17,
   "metadata": {
    "scrolled": true
   },
   "outputs": [
    {
     "data": {
      "text/plain": [
       "[<matplotlib.lines.Line2D at 0x7f90ac4f8970>]"
      ]
     },
     "execution_count": 17,
     "metadata": {},
     "output_type": "execute_result"
    },
    {
     "data": {
      "image/png": "[encoded data removed]",
      "text/plain": [
       "<Figure size 432x288 with 1 Axes>"
      ]
     },
     "metadata": {
      "needs_background": "light"
     },
     "output_type": "display_data"
    }
   ],
   "source": [
    "# GrLivArea, SalePrice\n",
    "\n",
    "plt.plot(data['OverallQual'].values, data['SalePrice'], '.')"
   ]
  },
  {
   "cell_type": "code",
   "execution_count": null,
   "metadata": {},
   "outputs": [],
   "source": []
  }
 ],
 "metadata": {
  "kernelspec": {
   "display_name": "Python 3 (ipykernel)",
   "language": "python",
   "name": "python3"
  },
  "language_info": {
   "codemirror_mode": {
    "name": "ipython",
    "version": 3
   },
   "file_extension": ".py",
   "mimetype": "text/x-python",
   "name": "python",
   "nbconvert_exporter": "python",
   "pygments_lexer": "ipython3",
   "version": "3.9.6"
  },
  "latex_envs": {
   "LaTeX_envs_menu_present": true,
   "autoclose": false,
   "autocomplete": true,
   "bibliofile": "biblio.bib",
   "cite_by": "apalike",
   "current_citInitial": 1,
   "eqLabelWithNumbers": true,
   "eqNumInitial": 1,
   "hotkeys": {
    "equation": "Ctrl-E",
    "itemize": "Ctrl-I"
   },
   "labels_anchors": false,
   "latex_user_defs": false,
   "report_style_numbering": false,
   "user_envs_cfg": false
  },
  "toc": {
   "base_numbering": 1,
   "nav_menu": {},
   "number_sections": true,
   "sideBar": true,
   "skip_h1_title": false,
   "title_cell": "Table of Contents",
   "title_sidebar": "Contents",
   "toc_cell": false,
   "toc_position": {},
   "toc_section_display": true,
   "toc_window_display": false
  },
  "varInspector": {
   "cols": {
    "lenName": 16,
    "lenType": 16,
    "lenVar": 40
   },
   "kernels_config": {
    "python": {
     "delete_cmd_postfix": "",
     "delete_cmd_prefix": "del ",
     "library": "var_list.py",
     "varRefreshCmd": "print(var_dic_list())"
    },
    "r": {
     "delete_cmd_postfix": ") ",
     "delete_cmd_prefix": "rm(",
     "library": "var_list.r",
     "varRefreshCmd": "cat(var_dic_list()) "
    }
   },
   "types_to_exclude": [
    "module",
    "function",
    "builtin_function_or_method",
    "instance",
    "_Feature"
   ],
   "window_display": false
  }
 },
 "nbformat": 4,
 "nbformat_minor": 2
}
