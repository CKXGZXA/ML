{
 "cells": [
  {
   "cell_type": "markdown",
   "metadata": {},
   "source": [
    "# 第三题：支持向量机的分类任务\n",
    "\n",
    "实验内容：\n",
    "1. 使用支持向量机完成spambase垃圾邮件分类任务\n",
    "2. 使用训练集训练模型，计算测试集的精度，查准率，查全率，F1值\n",
    "\n",
    "核函数 | C | 精度 | 查准率 | 查全率 | F1\n",
    "- | - | - | - | - | -\n",
    "rbf | 0.1 | 0.74 | 0.64 | 0.72 | 0.68\n",
    "rbf | 1 | 0.83 | 0.77 | 0.8 | 0.78\n",
    "linear | 0.1 | 0.81 | 0.94 | 0.53 | 0.68\n",
    "linear | 1 | 0.8 | 0.91 | 0.54 | 0.68\n",
    "sigmoid | 0.1 | 0.46 | 0.06 | 0.03 | 0.04\n",
    "sigmoid | 1 | 0.37 | 0.13 | 0.11 | 0.12"
   ]
  },
  {
   "cell_type": "code",
   "execution_count": 1,
   "metadata": {
    "ExecuteTime": {
     "end_time": "2021-11-25T01:47:42.655207Z",
     "start_time": "2021-11-25T01:47:42.451674Z"
    }
   },
   "outputs": [],
   "source": [
    "# 导入数据\n",
    "import numpy as np\n",
    "data = np.loadtxt('data/spambase/spambase.data', delimiter = \",\")\n",
    "spamx = data[:, :57]\n",
    "spamy = data[:, 57]"
   ]
  },
  {
   "cell_type": "code",
   "execution_count": 2,
   "metadata": {
    "ExecuteTime": {
     "end_time": "2021-11-25T01:47:43.033713Z",
     "start_time": "2021-11-25T01:47:42.656873Z"
    }
   },
   "outputs": [
    {
     "data": {
      "text/plain": [
       "((3220, 57), (3220,), (1381, 57), (1381,))"
      ]
     },
     "execution_count": 2,
     "metadata": {},
     "output_type": "execute_result"
    }
   ],
   "source": [
    "# 数据集分割\n",
    "from sklearn.model_selection import train_test_split\n",
    "trainX, testX, trainY, testY = train_test_split(spamx, spamy, test_size = 0.3, random_state = 32)\n",
    "trainX.shape, trainY.shape, testX.shape, testY.shape"
   ]
  },
  {
   "cell_type": "markdown",
   "metadata": {},
   "source": [
    "**注意：计算线性核的时候，要使用 LinearSVC 这个类，不要使用SVC(kernel = 'linear')。LinearSVC不需要设置kernel参数！**"
   ]
  },
  {
   "cell_type": "code",
   "execution_count": 3,
   "metadata": {
    "ExecuteTime": {
     "end_time": "2021-11-25T01:47:43.053568Z",
     "start_time": "2021-11-25T01:47:43.035495Z"
    }
   },
   "outputs": [],
   "source": [
    "# 引入模型\n",
    "from sklearn.svm import SVC\n",
    "from sklearn.svm import LinearSVC"
   ]
  },
  {
   "cell_type": "code",
   "execution_count": 4,
   "metadata": {
    "ExecuteTime": {
     "end_time": "2021-11-25T01:47:43.057364Z",
     "start_time": "2021-11-25T01:47:43.055067Z"
    }
   },
   "outputs": [],
   "source": [
    "from sklearn.metrics import accuracy_score\n",
    "from sklearn.metrics import precision_score\n",
    "from sklearn.metrics import recall_score\n",
    "from sklearn.metrics import f1_score"
   ]
  },
  {
   "cell_type": "code",
   "execution_count": 5,
   "metadata": {
    "ExecuteTime": {
     "end_time": "2021-11-25T01:47:43.961197Z",
     "start_time": "2021-11-25T01:47:43.058707Z"
    }
   },
   "outputs": [
    {
     "name": "stdout",
     "output_type": "stream",
     "text": [
      "rbf：C=0.1\n",
      "精度： 0.7 查准率： 0.65 查全率： 0.46 f1： 0.54\n"
     ]
    }
   ],
   "source": [
    "clf_r0=SVC(kernel='rbf',C=0.1,random_state=32)\n",
    "clf_r0.fit(trainX,trainY)\n",
    "prediction=clf_r0.predict(testX)\n",
    "as_spam_r=round(accuracy_score(testY,prediction),2)\n",
    "ps_spam_r=round(precision_score(testY,prediction),2)\n",
    "rs_spam_r=round(recall_score(testY,prediction),2)\n",
    "f1_spam_r=round(f1_score(testY,prediction),2)\n",
    "print('rbf：C=0.1')\n",
    "print('精度：',as_spam_r,'查准率：',ps_spam_r,'查全率：',rs_spam_r,'f1：',f1_spam_r)"
   ]
  },
  {
   "cell_type": "code",
   "execution_count": 6,
   "metadata": {
    "ExecuteTime": {
     "end_time": "2021-11-25T01:47:44.810045Z",
     "start_time": "2021-11-25T01:47:43.962813Z"
    }
   },
   "outputs": [
    {
     "name": "stdout",
     "output_type": "stream",
     "text": [
      "rbf：C=1\n",
      "精度： 0.72 查准率： 0.67 查全率： 0.49 f1： 0.57\n"
     ]
    }
   ],
   "source": [
    "clf_r0=SVC(kernel='rbf',C=1,random_state=32)\n",
    "clf_r0.fit(trainX,trainY)\n",
    "prediction=clf_r0.predict(testX)\n",
    "as_spam_r=round(accuracy_score(testY,prediction),2)\n",
    "ps_spam_r=round(precision_score(testY,prediction),2)\n",
    "rs_spam_r=round(recall_score(testY,prediction),2)\n",
    "f1_spam_r=round(f1_score(testY,prediction),2)\n",
    "print('rbf：C=1')\n",
    "print('精度：',as_spam_r,'查准率：',ps_spam_r,'查全率：',rs_spam_r,'f1：',f1_spam_r)"
   ]
  },
  {
   "cell_type": "code",
   "execution_count": 7,
   "metadata": {
    "ExecuteTime": {
     "end_time": "2021-11-25T01:47:44.988609Z",
     "start_time": "2021-11-25T01:47:44.811617Z"
    }
   },
   "outputs": [
    {
     "name": "stderr",
     "output_type": "stream",
     "text": [
      "/home/jupyter/anaconda3/lib/python3.8/site-packages/sklearn/svm/_base.py:985: ConvergenceWarning: Liblinear failed to converge, increase the number of iterations.\n",
      "  warnings.warn(\"Liblinear failed to converge, increase \"\n"
     ]
    },
    {
     "data": {
      "text/plain": [
       "LinearSVC(C=0.1, random_state=32)"
      ]
     },
     "execution_count": 7,
     "metadata": {},
     "output_type": "execute_result"
    }
   ],
   "source": [
    "clf=LinearSVC(C=0.1,random_state=32)\n",
    "clf.fit(trainX,trainY)"
   ]
  },
  {
   "cell_type": "code",
   "execution_count": 8,
   "metadata": {
    "ExecuteTime": {
     "end_time": "2021-11-25T01:47:44.997864Z",
     "start_time": "2021-11-25T01:47:44.992093Z"
    }
   },
   "outputs": [],
   "source": [
    "prediction=clf.predict(testX)"
   ]
  },
  {
   "cell_type": "code",
   "execution_count": 9,
   "metadata": {
    "ExecuteTime": {
     "end_time": "2021-11-25T01:47:45.023822Z",
     "start_time": "2021-11-25T01:47:45.000039Z"
    }
   },
   "outputs": [
    {
     "name": "stdout",
     "output_type": "stream",
     "text": [
      "线性：C=0.1\n",
      "精度： 0.9 查准率： 0.87 查全率： 0.85 f1： 0.86\n"
     ]
    }
   ],
   "source": [
    "as_spam_l=round(accuracy_score(testY,prediction),2)\n",
    "ps_spam_l=round(precision_score(testY,prediction),2)\n",
    "rs_spam_l=round(recall_score(testY,prediction),2)\n",
    "f1_spam_l=round(f1_score(testY,prediction),2)\n",
    "print('线性：C=0.1')\n",
    "print('精度：',as_spam_l,'查准率：',ps_spam_l,'查全率：',rs_spam_l,'f1：',f1_spam_l)"
   ]
  },
  {
   "cell_type": "code",
   "execution_count": 10,
   "metadata": {
    "ExecuteTime": {
     "end_time": "2021-11-25T01:47:45.227760Z",
     "start_time": "2021-11-25T01:47:45.024862Z"
    }
   },
   "outputs": [
    {
     "name": "stderr",
     "output_type": "stream",
     "text": [
      "/home/jupyter/anaconda3/lib/python3.8/site-packages/sklearn/svm/_base.py:985: ConvergenceWarning: Liblinear failed to converge, increase the number of iterations.\n",
      "  warnings.warn(\"Liblinear failed to converge, increase \"\n"
     ]
    },
    {
     "name": "stdout",
     "output_type": "stream",
     "text": [
      "线性：C=1\n",
      "精度： 0.65 查准率： 0.89 查全率： 0.09 f1： 0.17\n"
     ]
    }
   ],
   "source": [
    "clf=LinearSVC(C=1,random_state=32)\n",
    "clf.fit(trainX,trainY)\n",
    "prediction=clf.predict(testX)\n",
    "as_spam_l=round(accuracy_score(testY,prediction),2)\n",
    "ps_spam_l=round(precision_score(testY,prediction),2)\n",
    "rs_spam_l=round(recall_score(testY,prediction),2)\n",
    "f1_spam_l=round(f1_score(testY,prediction),2)\n",
    "print('线性：C=1')\n",
    "print('精度：',as_spam_l,'查准率：',ps_spam_l,'查全率：',rs_spam_l,'f1：',f1_spam_l)"
   ]
  },
  {
   "cell_type": "code",
   "execution_count": 11,
   "metadata": {
    "ExecuteTime": {
     "end_time": "2021-11-25T01:47:45.902746Z",
     "start_time": "2021-11-25T01:47:45.229289Z"
    }
   },
   "outputs": [
    {
     "name": "stdout",
     "output_type": "stream",
     "text": [
      "sigmoid：C=0.1\n",
      "精度： 0.63 查准率： 0.52 查全率： 0.53 f1： 0.52\n"
     ]
    }
   ],
   "source": [
    "clf_s0=SVC(kernel='sigmoid',C=0.1,random_state=32)\n",
    "clf_s0.fit(trainX,trainY)\n",
    "prediction=clf_s0.predict(testX)\n",
    "as_spam_s=round(accuracy_score(testY,prediction),2)\n",
    "ps_spam_s=round(precision_score(testY,prediction),2)\n",
    "rs_spam_s=round(recall_score(testY,prediction),2)\n",
    "f1_spam_s=round(f1_score(testY,prediction),2)\n",
    "print('sigmoid：C=0.1')\n",
    "print('精度：',as_spam_s,'查准率：',ps_spam_s,'查全率：',rs_spam_s,'f1：',f1_spam_s)"
   ]
  },
  {
   "cell_type": "code",
   "execution_count": 12,
   "metadata": {
    "ExecuteTime": {
     "end_time": "2021-11-25T01:47:46.472637Z",
     "start_time": "2021-11-25T01:47:45.904258Z"
    }
   },
   "outputs": [
    {
     "name": "stdout",
     "output_type": "stream",
     "text": [
      "sigmoid：C=1\n",
      "精度： 0.63 查准率： 0.52 查全率： 0.54 f1： 0.53\n"
     ]
    }
   ],
   "source": [
    "clf_s1=SVC(kernel='sigmoid',C=1,random_state=32)\n",
    "clf_s1.fit(trainX,trainY)\n",
    "prediction=clf_s1.predict(testX)\n",
    "as_spam_s=round(accuracy_score(testY,prediction),2)\n",
    "ps_spam_s=round(precision_score(testY,prediction),2)\n",
    "rs_spam_s=round(recall_score(testY,prediction),2)\n",
    "f1_spam_s=round(f1_score(testY,prediction),2)\n",
    "print('sigmoid：C=1')\n",
    "print('精度：',as_spam_s,'查准率：',ps_spam_s,'查全率：',rs_spam_s,'f1：',f1_spam_s)"
   ]
  },
  {
   "cell_type": "markdown",
   "metadata": {},
   "source": [
    "# 选做：比较LinearSVC和SVR(kernel = 'linear')的运行时间"
   ]
  },
  {
   "cell_type": "code",
   "execution_count": 13,
   "metadata": {
    "ExecuteTime": {
     "end_time": "2021-11-25T01:47:46.476200Z",
     "start_time": "2021-11-25T01:47:46.473992Z"
    }
   },
   "outputs": [],
   "source": [
    "from sklearn.svm import SVR\n",
    "from sklearn.svm import LinearSVC"
   ]
  },
  {
   "cell_type": "code",
   "execution_count": 14,
   "metadata": {
    "ExecuteTime": {
     "end_time": "2021-11-25T01:47:46.662192Z",
     "start_time": "2021-11-25T01:47:46.477414Z"
    }
   },
   "outputs": [
    {
     "name": "stderr",
     "output_type": "stream",
     "text": [
      "/home/jupyter/anaconda3/lib/python3.8/site-packages/sklearn/svm/_base.py:985: ConvergenceWarning: Liblinear failed to converge, increase the number of iterations.\n",
      "  warnings.warn(\"Liblinear failed to converge, increase \"\n"
     ]
    },
    {
     "data": {
      "text/plain": [
       "LinearSVC(C=1)"
      ]
     },
     "execution_count": 14,
     "metadata": {},
     "output_type": "execute_result"
    }
   ],
   "source": [
    "clf_x1=LinearSVC(C=1)\n",
    "clf_x1.fit(trainX,trainY)"
   ]
  },
  {
   "cell_type": "code",
   "execution_count": null,
   "metadata": {
    "ExecuteTime": {
     "start_time": "2021-11-25T01:47:42.975Z"
    }
   },
   "outputs": [],
   "source": [
    "clf_x1=SVR(kernel='linear',C=1)\n",
    "clf_x1.fit(trainX,trainY)"
   ]
  },
  {
   "cell_type": "code",
   "execution_count": null,
   "metadata": {},
   "outputs": [],
   "source": []
  }
 ],
 "metadata": {
  "kernelspec": {
   "display_name": "Python 3",
   "language": "python",
   "name": "python3"
  },
  "language_info": {
   "codemirror_mode": {
    "name": "ipython",
    "version": 3
   },
   "file_extension": ".py",
   "mimetype": "text/x-python",
   "name": "python",
   "nbconvert_exporter": "python",
   "pygments_lexer": "ipython3",
   "version": "3.8.8"
  },
  "latex_envs": {
   "LaTeX_envs_menu_present": true,
   "autoclose": false,
   "autocomplete": true,
   "bibliofile": "biblio.bib",
   "cite_by": "apalike",
   "current_citInitial": 1,
   "eqLabelWithNumbers": true,
   "eqNumInitial": 1,
   "hotkeys": {
    "equation": "Ctrl-E",
    "itemize": "Ctrl-I"
   },
   "labels_anchors": false,
   "latex_user_defs": false,
   "report_style_numbering": false,
   "user_envs_cfg": false
  },
  "toc": {
   "base_numbering": 1,
   "nav_menu": {},
   "number_sections": true,
   "sideBar": true,
   "skip_h1_title": false,
   "title_cell": "Table of Contents",
   "title_sidebar": "Contents",
   "toc_cell": false,
   "toc_position": {},
   "toc_section_display": true,
   "toc_window_display": false
  },
  "varInspector": {
   "cols": {
    "lenName": 16,
    "lenType": 16,
    "lenVar": 40
   },
   "kernels_config": {
    "python": {
     "delete_cmd_postfix": "",
     "delete_cmd_prefix": "del ",
     "library": "var_list.py",
     "varRefreshCmd": "print(var_dic_list())"
    },
    "r": {
     "delete_cmd_postfix": ") ",
     "delete_cmd_prefix": "rm(",
     "library": "var_list.r",
     "varRefreshCmd": "cat(var_dic_list()) "
    }
   },
   "types_to_exclude": [
    "module",
    "function",
    "builtin_function_or_method",
    "instance",
    "_Feature"
   ],
   "window_display": false
  }
 },
 "nbformat": 4,
 "nbformat_minor": 2
}
