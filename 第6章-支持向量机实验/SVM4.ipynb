{
 "cells": [
  {
   "cell_type": "markdown",
   "metadata": {},
   "source": [
    "# 第四题：支持向量机的回归任务\n",
    "\n",
    "实验内容：\n",
    "1. 使用支持向量机完成kaggle房价预测问题\n",
    "2. 使用训练集训练模型，计算测试集的MAE和RMSE\n",
    "\n",
    "核函数 | C | MAE | RMSE\n",
    "- | - | - | - \n",
    "rbf | 0.1 |56512.8596 | 79837.5074\n",
    "rbf | 1 | 56500.9937 | 79823.6878\n",
    "linear | 0.1 | 45166.005 | 72697.2505\n",
    "linear | 1 | 45490.7432 | 81152.6999\n",
    "sigmoid | 0.1 | 56514.0676 | 79839.0332\n",
    "sigmoid | 1 | 56513.0682 | 79839.2566"
   ]
  },
  {
   "cell_type": "code",
   "execution_count": 1,
   "metadata": {
    "ExecuteTime": {
     "end_time": "2021-11-25T01:29:09.784188Z",
     "start_time": "2021-11-25T01:29:09.588695Z"
    }
   },
   "outputs": [],
   "source": [
    "import numpy as np\n",
    "import pandas as pd\n",
    "\n",
    "# 读取数据\n",
    "data = pd.read_csv('data/kaggle_house_price_prediction/kaggle_hourse_price_train.csv')\n",
    "\n",
    "# 使用这3列作为特征\n",
    "features = ['LotArea', 'BsmtUnfSF', 'GarageArea']\n",
    "target = 'SalePrice'\n",
    "data = data[features + [target]]"
   ]
  },
  {
   "cell_type": "code",
   "execution_count": 2,
   "metadata": {
    "ExecuteTime": {
     "end_time": "2021-11-25T01:29:11.230062Z",
     "start_time": "2021-11-25T01:29:10.844331Z"
    }
   },
   "outputs": [
    {
     "data": {
      "text/plain": [
       "((1022, 3), (1022,), (438, 3), (438,))"
      ]
     },
     "execution_count": 2,
     "metadata": {},
     "output_type": "execute_result"
    }
   ],
   "source": [
    "# 数据集分割\n",
    "from sklearn.model_selection import train_test_split\n",
    "trainX, testX, trainY, testY = train_test_split(data[features], data[target], test_size = 0.3, random_state = 32)\n",
    "trainX.shape, trainY.shape, testX.shape, testY.shape"
   ]
  },
  {
   "cell_type": "markdown",
   "metadata": {},
   "source": [
    "**注意：计算线性核的时候，要使用 LinearSVR 这个类，不要使用SVR(kernel = 'linear')。LinearSVR不需要设置kernel参数！**"
   ]
  },
  {
   "cell_type": "code",
   "execution_count": 3,
   "metadata": {
    "ExecuteTime": {
     "end_time": "2021-11-25T01:29:15.006133Z",
     "start_time": "2021-11-25T01:29:14.986381Z"
    }
   },
   "outputs": [],
   "source": [
    "# 引入模型\n",
    "from sklearn.svm import SVR\n",
    "from sklearn.svm import LinearSVR"
   ]
  },
  {
   "cell_type": "code",
   "execution_count": 4,
   "metadata": {
    "ExecuteTime": {
     "end_time": "2021-11-25T01:29:19.780115Z",
     "start_time": "2021-11-25T01:29:19.776996Z"
    }
   },
   "outputs": [],
   "source": [
    "from sklearn.metrics import mean_absolute_error\n",
    "from sklearn.metrics import mean_squared_error"
   ]
  },
  {
   "cell_type": "code",
   "execution_count": 5,
   "metadata": {
    "ExecuteTime": {
     "end_time": "2021-11-25T01:29:22.580819Z",
     "start_time": "2021-11-25T01:29:22.469746Z"
    }
   },
   "outputs": [
    {
     "name": "stdout",
     "output_type": "stream",
     "text": [
      "rbf：C=0.1\n",
      "mae: 56512.8596\n",
      "rmse 79837.5074\n"
     ]
    }
   ],
   "source": [
    "regr=SVR(kernel='rbf',C=0.1,epsilon=0.2)\n",
    "regr.fit(trainX,trainY)\n",
    "prediction=regr.predict(testX)\n",
    "MAE=round(mean_absolute_error(testY,prediction),4)\n",
    "RMSE=round(mean_squared_error(testY,prediction)** 0.5,4)\n",
    "print('rbf：C=0.1')\n",
    "print('mae:',MAE)\n",
    "print('rmse',RMSE)"
   ]
  },
  {
   "cell_type": "code",
   "execution_count": 6,
   "metadata": {
    "ExecuteTime": {
     "end_time": "2021-11-25T01:29:47.823189Z",
     "start_time": "2021-11-25T01:29:47.706183Z"
    }
   },
   "outputs": [
    {
     "name": "stdout",
     "output_type": "stream",
     "text": [
      "rbf：C=1\n",
      "mae: 56500.9937\n",
      "rmse 79823.6878\n"
     ]
    }
   ],
   "source": [
    "regr=SVR(kernel='rbf',C=1,epsilon=0.2)\n",
    "regr.fit(trainX,trainY)\n",
    "prediction=regr.predict(testX)\n",
    "MAE=round(mean_absolute_error(testY,prediction),4)\n",
    "RMSE=round(mean_squared_error(testY,prediction)** 0.5,4)\n",
    "print('rbf：C=1')\n",
    "print('mae:',MAE)\n",
    "print('rmse',RMSE)"
   ]
  },
  {
   "cell_type": "code",
   "execution_count": 7,
   "metadata": {
    "ExecuteTime": {
     "end_time": "2021-11-25T01:32:51.259609Z",
     "start_time": "2021-11-25T01:32:51.217606Z"
    }
   },
   "outputs": [
    {
     "name": "stderr",
     "output_type": "stream",
     "text": [
      "/home/jupyter/anaconda3/lib/python3.8/site-packages/sklearn/svm/_base.py:985: ConvergenceWarning: Liblinear failed to converge, increase the number of iterations.\n",
      "  warnings.warn(\"Liblinear failed to converge, increase \"\n"
     ]
    },
    {
     "data": {
      "text/plain": [
       "LinearSVR(C=0.1, epsilon=0.2, random_state=32)"
      ]
     },
     "execution_count": 7,
     "metadata": {},
     "output_type": "execute_result"
    }
   ],
   "source": [
    "# YOUR CODE HERE\n",
    "regr = LinearSVR(C = 0.1, random_state = 32, epsilon=0.2)\n",
    "regr.fit(trainX, trainY)"
   ]
  },
  {
   "cell_type": "code",
   "execution_count": 8,
   "metadata": {
    "ExecuteTime": {
     "end_time": "2021-11-25T01:32:54.261511Z",
     "start_time": "2021-11-25T01:32:54.256043Z"
    }
   },
   "outputs": [],
   "source": [
    "prediction=regr.predict(testX)"
   ]
  },
  {
   "cell_type": "code",
   "execution_count": 9,
   "metadata": {
    "ExecuteTime": {
     "end_time": "2021-11-25T01:32:55.812751Z",
     "start_time": "2021-11-25T01:32:55.802005Z"
    }
   },
   "outputs": [
    {
     "name": "stdout",
     "output_type": "stream",
     "text": [
      "线性：C=0.1\n",
      "mae: 45166.005\n",
      "rmse 72697.2505\n"
     ]
    }
   ],
   "source": [
    "MAE=round(mean_absolute_error(testY,prediction),4)\n",
    "RMSE=round(mean_squared_error(testY,prediction)** 0.5,4)\n",
    "print('线性：C=0.1')\n",
    "print('mae:',MAE)\n",
    "print('rmse',RMSE)"
   ]
  },
  {
   "cell_type": "code",
   "execution_count": 11,
   "metadata": {
    "ExecuteTime": {
     "end_time": "2021-11-25T01:33:08.866832Z",
     "start_time": "2021-11-25T01:33:08.814559Z"
    }
   },
   "outputs": [
    {
     "name": "stderr",
     "output_type": "stream",
     "text": [
      "/home/jupyter/anaconda3/lib/python3.8/site-packages/sklearn/svm/_base.py:985: ConvergenceWarning: Liblinear failed to converge, increase the number of iterations.\n",
      "  warnings.warn(\"Liblinear failed to converge, increase \"\n"
     ]
    },
    {
     "name": "stdout",
     "output_type": "stream",
     "text": [
      "线性：C=1\n",
      "mae: 45490.7432\n",
      "rmse 81152.6999\n"
     ]
    }
   ],
   "source": [
    "regr=LinearSVR(C=1,random_state=32,epsilon=0.2)\n",
    "regr.fit(trainX,trainY)\n",
    "prediction=regr.predict(testX)\n",
    "MAE=round(mean_absolute_error(testY,prediction),4)\n",
    "RMSE=round(mean_squared_error(testY,prediction)** 0.5,4)\n",
    "print('线性：C=1')\n",
    "print('mae:',MAE)\n",
    "print('rmse',RMSE)"
   ]
  },
  {
   "cell_type": "code",
   "execution_count": 12,
   "metadata": {
    "ExecuteTime": {
     "end_time": "2021-11-25T01:33:13.753388Z",
     "start_time": "2021-11-25T01:33:13.576830Z"
    }
   },
   "outputs": [
    {
     "name": "stdout",
     "output_type": "stream",
     "text": [
      "sigmoid：C=0.1\n",
      "mae: 56514.0676\n",
      "rmse 79839.0332\n"
     ]
    }
   ],
   "source": [
    "regr=SVR(kernel='sigmoid',C=0.1,epsilon=0.2)\n",
    "regr.fit(trainX,trainY)\n",
    "prediction=regr.predict(testX)\n",
    "MAE=round(mean_absolute_error(testY,prediction),4)\n",
    "RMSE=round(mean_squared_error(testY,prediction)** 0.5,4)\n",
    "print('sigmoid：C=0.1')\n",
    "print('mae:',MAE)\n",
    "print('rmse',RMSE)"
   ]
  },
  {
   "cell_type": "code",
   "execution_count": 13,
   "metadata": {
    "ExecuteTime": {
     "end_time": "2021-11-25T01:33:16.148940Z",
     "start_time": "2021-11-25T01:33:15.974131Z"
    }
   },
   "outputs": [
    {
     "name": "stdout",
     "output_type": "stream",
     "text": [
      "sigmoid：C=1\n",
      "mae: 56513.0682\n",
      "rmse 79839.2566\n"
     ]
    }
   ],
   "source": [
    "regr=SVR(kernel='sigmoid',C=1,epsilon=0.2)\n",
    "regr.fit(trainX,trainY)\n",
    "prediction=regr.predict(testX)\n",
    "MAE=round(mean_absolute_error(testY,prediction),4)\n",
    "RMSE=round(mean_squared_error(testY,prediction)** 0.5,4)\n",
    "print('sigmoid：C=1')\n",
    "print('mae:',MAE)\n",
    "print('rmse',RMSE)"
   ]
  },
  {
   "cell_type": "code",
   "execution_count": null,
   "metadata": {},
   "outputs": [],
   "source": []
  }
 ],
 "metadata": {
  "kernelspec": {
   "display_name": "Python 3",
   "language": "python",
   "name": "python3"
  },
  "language_info": {
   "codemirror_mode": {
    "name": "ipython",
    "version": 3
   },
   "file_extension": ".py",
   "mimetype": "text/x-python",
   "name": "python",
   "nbconvert_exporter": "python",
   "pygments_lexer": "ipython3",
   "version": "3.8.8"
  },
  "latex_envs": {
   "LaTeX_envs_menu_present": true,
   "autoclose": false,
   "autocomplete": true,
   "bibliofile": "biblio.bib",
   "cite_by": "apalike",
   "current_citInitial": 1,
   "eqLabelWithNumbers": true,
   "eqNumInitial": 1,
   "hotkeys": {
    "equation": "Ctrl-E",
    "itemize": "Ctrl-I"
   },
   "labels_anchors": false,
   "latex_user_defs": false,
   "report_style_numbering": false,
   "user_envs_cfg": false
  },
  "toc": {
   "base_numbering": 1,
   "nav_menu": {},
   "number_sections": true,
   "sideBar": true,
   "skip_h1_title": false,
   "title_cell": "Table of Contents",
   "title_sidebar": "Contents",
   "toc_cell": false,
   "toc_position": {},
   "toc_section_display": true,
   "toc_window_display": false
  },
  "varInspector": {
   "cols": {
    "lenName": 16,
    "lenType": 16,
    "lenVar": 40
   },
   "kernels_config": {
    "python": {
     "delete_cmd_postfix": "",
     "delete_cmd_prefix": "del ",
     "library": "var_list.py",
     "varRefreshCmd": "print(var_dic_list())"
    },
    "r": {
     "delete_cmd_postfix": ") ",
     "delete_cmd_prefix": "rm(",
     "library": "var_list.r",
     "varRefreshCmd": "cat(var_dic_list()) "
    }
   },
   "types_to_exclude": [
    "module",
    "function",
    "builtin_function_or_method",
    "instance",
    "_Feature"
   ],
   "window_display": false
  }
 },
 "nbformat": 4,
 "nbformat_minor": 2
}
