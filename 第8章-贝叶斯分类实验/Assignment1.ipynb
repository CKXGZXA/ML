{
 "cells": [
  {
   "cell_type": "markdown",
   "metadata": {},
   "source": [
    "# 第一题：使用sklearn的GaussianNB、BernoulliNB、MultinomialNB完成spambase垃圾邮件分类任务\n",
    "\n",
    "实验内容：\n",
    "1. 使用GaussianNB、BernoulliNB、MultinomialNB完成spambase邮件分类\n",
    "2. 计算各自十折交叉验证的精度、查准率、查全率、F1值\n",
    "3. 根据精度、查准率、查全率、F1值的实际意义以及四个值的对比阐述三个算法在spambase中的表现对比"
   ]
  },
  {
   "cell_type": "markdown",
   "metadata": {},
   "source": [
    "# 1. 读取数据集"
   ]
  },
  {
   "cell_type": "code",
   "execution_count": 1,
   "metadata": {
    "ExecuteTime": {
     "end_time": "2021-12-09T00:12:15.662684Z",
     "start_time": "2021-12-09T00:12:15.536746Z"
    }
   },
   "outputs": [],
   "source": [
    "import numpy as np\n",
    "spambase = np.loadtxt('data/spambase/spambase.data', delimiter = \",\")\n",
    "spamx = spambase[:, :57]\n",
    "spamy = spambase[:, 57]"
   ]
  },
  {
   "cell_type": "markdown",
   "metadata": {},
   "source": [
    "# 2. 导入模型"
   ]
  },
  {
   "cell_type": "code",
   "execution_count": 2,
   "metadata": {
    "ExecuteTime": {
     "end_time": "2021-12-09T00:12:17.378543Z",
     "start_time": "2021-12-09T00:12:16.994638Z"
    }
   },
   "outputs": [],
   "source": [
    "from sklearn.naive_bayes import GaussianNB\n",
    "from sklearn.naive_bayes import MultinomialNB\n",
    "from sklearn.naive_bayes import BernoulliNB\n",
    "from sklearn.model_selection import cross_val_predict"
   ]
  },
  {
   "cell_type": "markdown",
   "metadata": {},
   "source": [
    "# 3. 计算十折交叉验证下，GaussianNB、BernoulliNB、MultinomialNB的精度、查准率、查全率、F1值"
   ]
  },
  {
   "cell_type": "code",
   "execution_count": 8,
   "metadata": {
    "ExecuteTime": {
     "end_time": "2021-12-09T00:27:37.934642Z",
     "start_time": "2021-12-09T00:27:37.820859Z"
    }
   },
   "outputs": [],
   "source": [
    "# YOUR CODE HERE\n",
    "model1 = GaussianNB()\n",
    "prediction1 = cross_val_predict(model1,spamx, spamy, cv = 10)\n",
    "\n",
    "model2 = BernoulliNB()\n",
    "prediction2 = cross_val_predict(model2, spamx, spamy, cv = 10)\n",
    "\n",
    "model3 = MultinomialNB()\n",
    "prediction3 = cross_val_predict(model3, spamx, spamy, cv = 10)\n",
    "\n"
   ]
  },
  {
   "cell_type": "code",
   "execution_count": 10,
   "metadata": {
    "ExecuteTime": {
     "end_time": "2021-12-09T00:28:06.722266Z",
     "start_time": "2021-12-09T00:28:06.294693Z"
    }
   },
   "outputs": [
    {
     "data": {
      "text/html": [
       "<div>\n",
       "<style scoped>\n",
       "    .dataframe tbody tr th:only-of-type {\n",
       "        vertical-align: middle;\n",
       "    }\n",
       "\n",
       "    .dataframe tbody tr th {\n",
       "        vertical-align: top;\n",
       "    }\n",
       "\n",
       "    .dataframe thead th {\n",
       "        text-align: right;\n",
       "    }\n",
       "</style>\n",
       "<table border=\"1\" class=\"dataframe\">\n",
       "  <thead>\n",
       "    <tr style=\"text-align: right;\">\n",
       "      <th></th>\n",
       "      <th>精度</th>\n",
       "      <th>查准率</th>\n",
       "      <th>查全率</th>\n",
       "      <th>F1</th>\n",
       "    </tr>\n",
       "  </thead>\n",
       "  <tbody>\n",
       "    <tr>\n",
       "      <th>GaussianNB</th>\n",
       "      <td>0.821778</td>\n",
       "      <td>0.700444</td>\n",
       "      <td>0.956977</td>\n",
       "      <td>0.808858</td>\n",
       "    </tr>\n",
       "    <tr>\n",
       "      <th>BernoulliNB</th>\n",
       "      <td>0.883938</td>\n",
       "      <td>0.881336</td>\n",
       "      <td>0.815223</td>\n",
       "      <td>0.846991</td>\n",
       "    </tr>\n",
       "    <tr>\n",
       "      <th>MultinomialNB</th>\n",
       "      <td>0.786351</td>\n",
       "      <td>0.732363</td>\n",
       "      <td>0.721456</td>\n",
       "      <td>0.726869</td>\n",
       "    </tr>\n",
       "  </tbody>\n",
       "</table>\n",
       "</div>"
      ],
      "text/plain": [
       "                     精度       查准率       查全率        F1\n",
       "GaussianNB     0.821778  0.700444  0.956977  0.808858\n",
       "BernoulliNB    0.883938  0.881336  0.815223  0.846991\n",
       "MultinomialNB  0.786351  0.732363  0.721456  0.726869"
      ]
     },
     "execution_count": 10,
     "metadata": {},
     "output_type": "execute_result"
    }
   ],
   "source": [
    "from sklearn.metrics import accuracy_score\n",
    "from sklearn.metrics import precision_score\n",
    "from sklearn.metrics import recall_score\n",
    "from sklearn.metrics import f1_score\n",
    "import pandas as pd\n",
    "\n",
    "\n",
    "acc_s = []\n",
    "pre_s = []\n",
    "rec_s = []\n",
    "f1_s = []\n",
    "\n",
    "acc_s.append(accuracy_score(spamy, prediction1))\n",
    "pre_s.append(precision_score(spamy, prediction1))\n",
    "rec_s.append(recall_score(spamy, prediction1))\n",
    "f1_s.append(f1_score(spamy, prediction1))\n",
    "\n",
    "acc_s.append(accuracy_score(spamy, prediction2))\n",
    "pre_s.append(precision_score(spamy, prediction2))\n",
    "rec_s.append(recall_score(spamy, prediction2))\n",
    "f1_s.append(f1_score(spamy, prediction2))\n",
    "\n",
    "acc_s.append(accuracy_score(spamy, prediction3))\n",
    "pre_s.append(precision_score(spamy, prediction3))\n",
    "rec_s.append(recall_score(spamy, prediction3))\n",
    "f1_s.append(f1_score(spamy, prediction3))\n",
    "\n",
    "data_set_name = ['GaussianNB', 'BernoulliNB', 'MultinomialNB']\n",
    "result = pd.DataFrame({'精度': acc_s, '查准率': pre_s, '查全率': rec_s, 'F1': f1_s})\n",
    "l = []\n",
    "for i in range(result.shape[0]):\n",
    "    l.append(data_set_name[i])\n",
    "result.index = l\n",
    "result.head(result.shape[0])"
   ]
  },
  {
   "cell_type": "markdown",
   "metadata": {},
   "source": [
    "###### 双击此处填写\n",
    "算法|精度|查准率|查全率|F1值\n",
    "-|-|-|-|-\n",
    "GaussianNB | 0.821778 | 0.700444 | 0.956977 | 0.808858\n",
    "BernoulliNB\t| 0.883938 | 0.881336 | 0.815223 | 0.846991\n",
    "MultinomialNB |\t0.786351 | 0.732363 | 0.721456 | 0.726869"
   ]
  },
  {
   "cell_type": "markdown",
   "metadata": {},
   "source": [
    "###### 双击此处填写分析\n",
    "\n",
    "分析如下："
   ]
  }
 ],
 "metadata": {
  "kernelspec": {
   "display_name": "Python 3",
   "language": "python",
   "name": "python3"
  },
  "language_info": {
   "codemirror_mode": {
    "name": "ipython",
    "version": 3
   },
   "file_extension": ".py",
   "mimetype": "text/x-python",
   "name": "python",
   "nbconvert_exporter": "python",
   "pygments_lexer": "ipython3",
   "version": "3.8.8"
  },
  "latex_envs": {
   "LaTeX_envs_menu_present": true,
   "autoclose": false,
   "autocomplete": true,
   "bibliofile": "biblio.bib",
   "cite_by": "apalike",
   "current_citInitial": 1,
   "eqLabelWithNumbers": true,
   "eqNumInitial": 1,
   "hotkeys": {
    "equation": "Ctrl-E",
    "itemize": "Ctrl-I"
   },
   "labels_anchors": false,
   "latex_user_defs": false,
   "report_style_numbering": false,
   "user_envs_cfg": false
  },
  "toc": {
   "base_numbering": 1,
   "nav_menu": {},
   "number_sections": true,
   "sideBar": true,
   "skip_h1_title": false,
   "title_cell": "Table of Contents",
   "title_sidebar": "Contents",
   "toc_cell": false,
   "toc_position": {},
   "toc_section_display": true,
   "toc_window_display": false
  },
  "varInspector": {
   "cols": {
    "lenName": 16,
    "lenType": 16,
    "lenVar": 40
   },
   "kernels_config": {
    "python": {
     "delete_cmd_postfix": "",
     "delete_cmd_prefix": "del ",
     "library": "var_list.py",
     "varRefreshCmd": "print(var_dic_list())"
    },
    "r": {
     "delete_cmd_postfix": ") ",
     "delete_cmd_prefix": "rm(",
     "library": "var_list.r",
     "varRefreshCmd": "cat(var_dic_list()) "
    }
   },
   "types_to_exclude": [
    "module",
    "function",
    "builtin_function_or_method",
    "instance",
    "_Feature"
   ],
   "window_display": false
  }
 },
 "nbformat": 4,
 "nbformat_minor": 2
}
